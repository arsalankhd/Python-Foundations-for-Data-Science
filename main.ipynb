{
 "cells": [
  {
   "cell_type": "markdown",
   "metadata": {},
   "source": [
    "# -Machine Learning Course Homework 1\n",
    "# -Fullname: Arsalan Khodadadi\n",
    "# -Student number: 403422069"
   ]
  },
  {
   "cell_type": "markdown",
   "metadata": {},
   "source": [
    "## Exercise 1: Finding Longest Substring"
   ]
  },
  {
   "cell_type": "code",
   "execution_count": 7,
   "metadata": {},
   "outputs": [
    {
     "name": "stdout",
     "output_type": "stream",
     "text": [
      "The longest substring is: abc\n",
      "The longest substring is: cab\n"
     ]
    }
   ],
   "source": [
    "def find_longest_substring(s):\n",
    "    longest = \"\"\n",
    "    current = \"\"\n",
    "\n",
    "    for char in s:\n",
    "        if char in current:\n",
    "            current = current[current.index(char) + 1:]\n",
    "        current += char\n",
    "\n",
    "        if len(current) > len(longest):\n",
    "            longest = current\n",
    "\n",
    "    return longest\n",
    "\n",
    "input_string_1 = \"abcabcbb\"\n",
    "input_string_2 = \"acabbcaba\"\n",
    "result_1 = find_longest_substring(input_string_1)\n",
    "result_2 = find_longest_substring(input_string_2)\n",
    "print(f\"The longest substring is: {result_1}\")\n",
    "print(f\"The longest substring is: {result_2}\")"
   ]
  },
  {
   "cell_type": "markdown",
   "metadata": {},
   "source": [
    "## Exercise 2: GCD"
   ]
  },
  {
   "cell_type": "code",
   "execution_count": 8,
   "metadata": {},
   "outputs": [
    {
     "name": "stdout",
     "output_type": "stream",
     "text": [
      "The GCD of 48 and 18 is 6\n",
      "The GCD of 48 and 72 is 24\n"
     ]
    }
   ],
   "source": [
    "def gcd(a , b):\n",
    "    if a==0:\n",
    "        return b\n",
    "    return gcd(b % a, a)\n",
    "\n",
    "num_1 = 48\n",
    "num_2 = 18\n",
    "num_3 = 72\n",
    "result_1 = gcd(num_1, num_2)\n",
    "result_2 = gcd(num_1, num_3)\n",
    "print(f\"The GCD of {num_1} and {num_2} is {result_1}\")\n",
    "print(f\"The GCD of {num_1} and {num_3} is {result_2}\")"
   ]
  },
  {
   "cell_type": "markdown",
   "metadata": {},
   "source": [
    "## Exercise 3 Part 1: Stochastic Gradient Descent"
   ]
  },
  {
   "cell_type": "code",
   "execution_count": 9,
   "metadata": {},
   "outputs": [
    {
     "name": "stdout",
     "output_type": "stream",
     "text": [
      "SGD Optimization:\n",
      "Iteration 1: theta = 8.0, cost = 64.0\n",
      "Iteration 2: theta = 6.4, cost = 40.96000000000001\n",
      "Iteration 3: theta = 5.12, cost = 26.2144\n",
      "Iteration 4: theta = 4.096, cost = 16.777216\n",
      "Iteration 5: theta = 3.2768, cost = 10.73741824\n",
      "Iteration 6: theta = 2.62144, cost = 6.871947673600001\n",
      "Iteration 7: theta = 2.0971520000000003, cost = 4.398046511104002\n",
      "Iteration 8: theta = 1.6777216000000004, cost = 2.8147497671065613\n",
      "Iteration 9: theta = 1.3421772800000003, cost = 1.801439850948199\n",
      "Iteration 10: theta = 1.0737418240000003, cost = 1.1529215046068475\n"
     ]
    }
   ],
   "source": [
    "def sgd_optimizer(theta, gradients, learning_rate=0.01):\n",
    "    theta = theta - learning_rate * gradients\n",
    "    return theta\n",
    "\n",
    "def cost_function(theta):\n",
    "    return theta**2\n",
    "\n",
    "def gradient(theta):\n",
    "    return 2 * theta\n",
    "\n",
    "theta_sgd = 10.0 \n",
    "learning_rate = 0.1\n",
    "\n",
    "# Perform SGD optimization for 10 iterations\n",
    "print(\"SGD Optimization:\")\n",
    "for i in range(10):\n",
    "    grad = gradient(theta_sgd)\n",
    "    theta_sgd = sgd_optimizer(theta_sgd, grad, learning_rate)\n",
    "    print(f\"Iteration {i+1}: theta = {theta_sgd}, cost = {cost_function(theta_sgd)}\")\n",
    "\n"
   ]
  },
  {
   "cell_type": "markdown",
   "metadata": {},
   "source": [
    "## Exercise 3 Part 2: Adam"
   ]
  },
  {
   "cell_type": "code",
   "execution_count": 10,
   "metadata": {},
   "outputs": [
    {
     "name": "stdout",
     "output_type": "stream",
     "text": [
      "Adam Optimization:\n",
      "Iteration 1: theta = 9.90000000005, cost = 98.01000000098999\n",
      "Iteration 2: theta = 9.800027459059471, cost = 96.04053819831964\n",
      "Iteration 3: theta = 9.70010099242815, cost = 94.09195926330557\n",
      "Iteration 4: theta = 9.600239395419266, cost = 92.16459644936006\n",
      "Iteration 5: theta = 9.500461600614251, cost = 90.2587706247459\n",
      "Iteration 6: theta = 9.40078663510384, cost = 88.37478935874698\n",
      "Iteration 7: theta = 9.30123357774574, cost = 86.51294606778484\n",
      "Iteration 8: theta = 9.201821516812585, cost = 84.67351922727505\n",
      "Iteration 9: theta = 9.102569508342574, cost = 82.85677165420798\n",
      "Iteration 10: theta = 9.003496535489624, cost = 81.06294986457367\n"
     ]
    }
   ],
   "source": [
    "import numpy as np\n",
    "\n",
    "def adam_optimizer(theta, gradients, learning_rate=0.001, beta1=0.9, beta2=0.999, epsilon=1e-8, t=1, m_prev=0, v_prev=0):\n",
    "    m = beta1 * m_prev + (1 - beta1) * gradients\n",
    "    \n",
    "    v = beta2 * v_prev + (1 - beta2) * np.power(gradients, 2)\n",
    "\n",
    "    m_hat = m / (1 - np.power(beta1, t))\n",
    "\n",
    "    v_hat = v / (1 - np.power(beta2, t))\n",
    "    \n",
    "    # Update theta according to the Adam formula\n",
    "    theta = theta - (learning_rate * m_hat) / (np.sqrt(v_hat) + epsilon)\n",
    "    \n",
    "    return theta, m, v\n",
    "\n",
    "theta_adam = 10.0 \n",
    "learning_rate = 0.1\n",
    "\n",
    "beta1 = 0.9\n",
    "beta2 = 0.999\n",
    "epsilon = 1e-8\n",
    "\n",
    "m = 0\n",
    "v = 0\n",
    "t = 1\n",
    "\n",
    "print(\"Adam Optimization:\")\n",
    "# Perform Adam optimization for 10 iterations\n",
    "for i in range(10):\n",
    "    grad = gradient(theta_adam)\n",
    "    theta_adam, m, v = adam_optimizer(theta_adam, grad, learning_rate, beta1, beta2, epsilon, t, m, v)\n",
    "    print(f\"Iteration {i+1}: theta = {theta_adam}, cost = {cost_function(theta_adam)}\")\n",
    "    t += 1"
   ]
  },
  {
   "cell_type": "markdown",
   "metadata": {},
   "source": [
    "## Exercise 4: Finding Missing Numbers"
   ]
  },
  {
   "cell_type": "code",
   "execution_count": 11,
   "metadata": {},
   "outputs": [
    {
     "name": "stdout",
     "output_type": "stream",
     "text": [
      "The missing values are: [6, 9, 10]\n",
      "The missing values are: [3, 5, 8, 12, 14, 15]\n"
     ]
    }
   ],
   "source": [
    "def find_missing_numbers(lst, n):\n",
    "    seen = [False] * (n + 1)\n",
    "    missing_numbers = []\n",
    "    \n",
    "    for num in lst:\n",
    "        if 1 <= num <= n:\n",
    "            seen[num] = True\n",
    "    \n",
    "    for i in range(1, n + 1):\n",
    "        if not seen[i]:\n",
    "            missing_numbers.append(i)\n",
    "\n",
    "    return missing_numbers\n",
    "\n",
    "n1 = 10\n",
    "nums_1 = [3, 7, 1, 2, 8, 4, 5]\n",
    "n2 = 15\n",
    "nums_2 = [7, 9, 4, 1, 10, 13, 11, 2, 6]\n",
    "missing_1 = find_missing_numbers(nums_1, n1)\n",
    "missing_2 = find_missing_numbers(nums_2, n2)\n",
    "print(f\"The missing values are: {missing_1}\")\n",
    "print(f\"The missing values are: {missing_2}\")"
   ]
  },
  {
   "cell_type": "markdown",
   "metadata": {},
   "source": [
    "## Exercise 5: Group Anagrams"
   ]
  },
  {
   "cell_type": "code",
   "execution_count": 12,
   "metadata": {},
   "outputs": [
    {
     "name": "stdout",
     "output_type": "stream",
     "text": [
      "The result for the first list is: [['listen', 'silent'], ['vile', 'evil']]\n",
      "The result for the second list is: [['rat', 'tar', 'art'], ['star', 'tars'], ['car', 'arc']]\n"
     ]
    }
   ],
   "source": [
    "from collections import defaultdict\n",
    "\n",
    "def group_anagrams(words):\n",
    "    anagrams = defaultdict(list)\n",
    "\n",
    "    for word in words:\n",
    "        sorted_word = ''.join(sorted(word))\n",
    "        anagrams[sorted_word].append(word)\n",
    "    \n",
    "    return list(anagrams.values())\n",
    "\n",
    "lst_1 = [\"listen\", \"vile\", \"silent\", \"evil\"]\n",
    "lst_2 = [\"rat\", \"tar\", \"art\", \"star\", \"tars\", \"car\", \"arc\"]\n",
    "result_1 = group_anagrams(lst_1)\n",
    "result_2 = group_anagrams(lst_2)\n",
    "print(f\"The result for the first list is: {result_1}\")\n",
    "print(f\"The result for the second list is: {result_2}\")\n"
   ]
  },
  {
   "cell_type": "markdown",
   "metadata": {},
   "source": [
    "## Exercise 6: Merge Dictionaries"
   ]
  },
  {
   "cell_type": "code",
   "execution_count": 13,
   "metadata": {},
   "outputs": [
    {
     "name": "stdout",
     "output_type": "stream",
     "text": [
      "The merged dictionary is: {'a': 3, 'b': 2, 'c': 3}\n",
      "The merged dictionary is: {'x': 5, 'y': 13, 'z': 22, 'w': 8}\n"
     ]
    }
   ],
   "source": [
    "def merge_dicts(dict1, dict2):\n",
    "    merged_dict = dict1.copy()\n",
    "\n",
    "    for key, value in dict2.items():\n",
    "        if key in merged_dict:\n",
    "            merged_dict[key] += value\n",
    "        else:\n",
    "            merged_dict[key] = value\n",
    "    \n",
    "    return merged_dict\n",
    "\n",
    "dict_1 = {'a' : 1, 'b': 2}\n",
    "dict_2 = {'a' : 2, 'c': 3}\n",
    "result_1 = merge_dicts(dict_1, dict_2)\n",
    "dict_3 = {'x': 5, 'y': 10, 'z': 15}\n",
    "dict_4 = {'y': 3, 'z': 7, 'w': 8}\n",
    "result_2 = merge_dicts(dict_3, dict_4)\n",
    "print(f\"The merged dictionary is: {result_1}\")\n",
    "print(f\"The merged dictionary is: {result_2}\")\n"
   ]
  },
  {
   "cell_type": "markdown",
   "metadata": {},
   "source": [
    "## Exercise 7: Top k Frequent Words"
   ]
  },
  {
   "cell_type": "code",
   "execution_count": 14,
   "metadata": {},
   "outputs": [
    {
     "name": "stdout",
     "output_type": "stream",
     "text": [
      "The top k frequent words for example one are: ['car', 'tree']\n",
      "The top k frequent words for example two are: ['ardalan', 'arsalan', 'amir']\n"
     ]
    }
   ],
   "source": [
    "def top_k_frequent_words(words, k):\n",
    "    words_count = {}\n",
    "\n",
    "    for word in words:\n",
    "        if word in words_count:\n",
    "            words_count[word] += 1\n",
    "        else:\n",
    "            words_count[word] = 1\n",
    "\n",
    "    sorted_words = sorted(words_count.keys(), key=lambda word: (-words_count[word], word))\n",
    "\n",
    "    return sorted_words[:k]\n",
    "\n",
    "words_list_1 = [\"house\", \"car\", \"tree\", \"car\", \"tree\", \"tree\", \"car\", \"street\", \"house\"]\n",
    "result_1 = top_k_frequent_words(words_list_1, 2)\n",
    "words_list_2 = [\"ardalan\", \"arsalan\", \"amir\", \"ali\", \"amir\", \"ardalan\", \"arsalan\", \"arsalan\", \"ardalan\"]\n",
    "result_2 = top_k_frequent_words(words_list_2, 3)\n",
    "print(f\"The top k frequent words for example one are: {result_1}\")\n",
    "print(f\"The top k frequent words for example two are: {result_2}\")\n"
   ]
  },
  {
   "cell_type": "markdown",
   "metadata": {},
   "source": [
    "## Exercise 8:  Generate Pascal Triangle"
   ]
  },
  {
   "cell_type": "code",
   "execution_count": 15,
   "metadata": {},
   "outputs": [
    {
     "name": "stdout",
     "output_type": "stream",
     "text": [
      "[1]\n",
      "[1, 1]\n",
      "[1, 2, 1]\n",
      "[1, 3, 3, 1]\n",
      "--------------------------------\n",
      "[1]\n",
      "[1, 1]\n",
      "[1, 2, 1]\n",
      "[1, 3, 3, 1]\n",
      "[1, 4, 6, 4, 1]\n"
     ]
    }
   ],
   "source": [
    "def generate_pascal_triangle(num_rows):\n",
    "    triangle = []\n",
    "\n",
    "    for row_num in range(num_rows):\n",
    "        row = [1] * (row_num + 1)\n",
    "\n",
    "        for j in range(1, row_num):\n",
    "            row[j] = triangle[row_num - 1][j - 1] + triangle[row_num - 1][j]\n",
    "        \n",
    "        triangle.append(row)\n",
    "    \n",
    "    return triangle\n",
    "\n",
    "num_rows_1 = 4\n",
    "triangle_1 = generate_pascal_triangle(num_rows_1)\n",
    "num_rows_2 = 5\n",
    "triangle_2 = generate_pascal_triangle(num_rows_2)\n",
    "\n",
    "for row in triangle_1:\n",
    "    print(row)\n",
    "print(\"--------------------------------\")\n",
    "for row in triangle_2:\n",
    "    print(row)"
   ]
  },
  {
   "cell_type": "markdown",
   "metadata": {},
   "source": [
    "## Exercise 9: Finding Subsets"
   ]
  },
  {
   "cell_type": "code",
   "execution_count": 17,
   "metadata": {},
   "outputs": [
    {
     "name": "stdout",
     "output_type": "stream",
     "text": [
      "The subsets are: [[], [3], [2], [2, 3], [1], [1, 3], [1, 2], [1, 2, 3]]\n",
      "The subsets are: [[], [5], [4], [4, 5], [3], [3, 5], [3, 4], [3, 4, 5], [2], [2, 5], [2, 4], [2, 4, 5], [2, 3], [2, 3, 5], [2, 3, 4], [2, 3, 4, 5]]\n"
     ]
    }
   ],
   "source": [
    "def find_subsets(lst):\n",
    "    if len(lst) == 0:\n",
    "        return [[]]\n",
    "    \n",
    "    subsets_without_first = find_subsets(lst[1:])\n",
    "    subsets_with_first = [[lst[0]] + sub for sub in subsets_without_first]\n",
    "\n",
    "    return subsets_without_first + subsets_with_first\n",
    "\n",
    "input_list_1 = [1, 2, 3]\n",
    "output_1 = find_subsets(input_list_1)\n",
    "print(f\"The subsets are: {output_1}\")\n",
    "\n",
    "input_list_2 = [2, 3, 4, 5]\n",
    "output_2 = find_subsets(input_list_2)\n",
    "print(f\"The subsets are: {output_2}\")"
   ]
  },
  {
   "cell_type": "markdown",
   "metadata": {},
   "source": [
    "## Exercise 10: Polynomial"
   ]
  },
  {
   "cell_type": "code",
   "execution_count": 2,
   "metadata": {},
   "outputs": [
    {
     "name": "stdout",
     "output_type": "stream",
     "text": [
      "Roots of the quadratic polynomial:  (3.0, 2.0)\n",
      "Evaluation of p(x) = x^2 - 5x + 6 at x = 5: 6\n",
      "Roots of the quadratic polynomial:  None\n",
      "Evaluation of p(x) = 2x^2 + 3x + 4 at x = 2: 18\n",
      "Result of adding above polynomials is: 3x^2 + -2x + 10\n",
      "Result of subtracting above polynomials is: 1x^2 + 8x + -2\n",
      "Roots of the quadratic polynomial:  (2.0, -2.0)\n",
      "Result of adding above polynomials is: 1x^2 + 2x + -7\n",
      "Result of subtracting above polynomials is: 1x^2 + -2x + -1\n"
     ]
    }
   ],
   "source": [
    "from Polynomial import Polynomial\n",
    "import math\n",
    "\n",
    "class QuadraticPolynomial(Polynomial):\n",
    "    def __init__(self, a, b ,c):\n",
    "        super().__init__([a, b, c])\n",
    "\n",
    "    def find_roots(self):\n",
    "        a, b, c = self.coefficients\n",
    "        discriminant = b**2 - 4*a*c\n",
    "\n",
    "        if discriminant > 0:\n",
    "            root1 = (-b + math.sqrt(discriminant)) / (2 * a)\n",
    "            root2 = (-b - math.sqrt(discriminant)) / (2 * a)\n",
    "            return root1, root2\n",
    "        elif discriminant == 0:\n",
    "            root = -b / (2 * a)\n",
    "            return root, root\n",
    "        else:\n",
    "            return None\n",
    "\n",
    "# Polynomial: p(x) = x^2 - 5x + 6\n",
    "quad_ploy_1 = QuadraticPolynomial(1, -5, 6)\n",
    "print(\"Roots of the quadratic polynomial: \", quad_ploy_1.find_roots())\n",
    "# Evaluate p(x) at x = 5\n",
    "print (\"Evaluation of p(x) = x^2 - 5x + 6 at x = 5:\", quad_ploy_1.evaluate(5))\n",
    "\n",
    "# Polynomial: p(x) = 2x^2 + 3x + 4\n",
    "quad_ploy_2 = QuadraticPolynomial(2, 3, 4)\n",
    "print(\"Roots of the quadratic polynomial: \", quad_ploy_2.find_roots())\n",
    "# Evaluate p(x) at x = 2\n",
    "print (\"Evaluation of p(x) = 2x^2 + 3x + 4 at x = 2:\", quad_ploy_2.evaluate(2))\n",
    "\n",
    "# Adding two polynomials: (x^2 - 5x + 6) + (2x^2 + 3x + 4)\n",
    "result_poly_1 = quad_ploy_1.add(quad_ploy_2)\n",
    "print(f\"Result of adding above polynomials is: {result_poly_1}\")\n",
    "\n",
    "# Subtracting two polynomials: (2x^2 + 3x + 4) - (x^2 - 5x + 6)\n",
    "result_poly_2 = quad_ploy_2.subtract(quad_ploy_1)\n",
    "print(f\"Result of subtracting above polynomials is: {result_poly_2}\")\n",
    "\n",
    "# Some more examples\n",
    "poly1 = QuadraticPolynomial(1, 0 , -4)\n",
    "print(\"Roots of the quadratic polynomial: \", poly1.find_roots())\n",
    "\n",
    "poly2 = QuadraticPolynomial(0, 2, -3)\n",
    "\n",
    "# Adding two polynomials: (x^2 -4) + (2x - 3)\n",
    "result_poly_3 = poly1.add(poly2)\n",
    "print(f\"Result of adding above polynomials is: {result_poly_3}\")\n",
    "\n",
    "# Subtracting two polynomials: (x^2 -4) - (2x - 3)\n",
    "result_poly_4 = poly1.subtract(poly2)\n",
    "print(f\"Result of subtracting above polynomials is: {result_poly_4}\")\n"
   ]
  },
  {
   "cell_type": "markdown",
   "metadata": {},
   "source": [
    "## Exercise 11: Matrix"
   ]
  },
  {
   "cell_type": "code",
   "execution_count": 18,
   "metadata": {},
   "outputs": [
    {
     "name": "stdout",
     "output_type": "stream",
     "text": [
      "Matrix Addition:\n",
      "6 8\n",
      "10 12\n",
      "\n",
      "Matrix Subtraction:\n",
      "-4 4\n",
      "-4 4\n",
      "\n",
      "Matrix Multiplication:\n",
      "27 30 33\n",
      "61 68 75\n",
      "95 106 117\n"
     ]
    }
   ],
   "source": [
    "class Matrix:\n",
    "    def __init__(self, data):\n",
    "        self.data = data\n",
    "        self.rows = len(data)\n",
    "        self.cols = len(data[0]) if data else 0\n",
    "    \n",
    "    def add(self, other_matrix):\n",
    "        if self.rows != other_matrix.rows or self.cols != other_matrix.cols:\n",
    "            raise ValueError(\"Matrices must have the same dimensions for addition.\")\n",
    "        \n",
    "        result = []\n",
    "        for i in range(self.rows):\n",
    "            row = []\n",
    "            for j in range(self.cols):\n",
    "                row.append(self.data[i][j] + other_matrix.data[i][j])\n",
    "            result.append(row)\n",
    "        \n",
    "        return Matrix(result)\n",
    "    \n",
    "    def subtract(self, other_matrix):\n",
    "        if self.rows != other_matrix.rows or self.cols != other_matrix.cols:\n",
    "            raise ValueError(\"Matrices must have the same dimensions for subtraction.\")\n",
    "        \n",
    "        result = []\n",
    "        for i in range(self.rows):\n",
    "            row = []\n",
    "            for j in range(self.cols):\n",
    "                row.append(self.data[i][j] - other_matrix.data[i][j])\n",
    "            result.append(row)\n",
    "        \n",
    "        return Matrix(result)\n",
    "    \n",
    "    def multiply(self, other_matrix):\n",
    "        if self.cols != other_matrix.rows:\n",
    "            raise ValueError(\"Matrices dimensions are not compatible for multiplication.\")\n",
    "        \n",
    "        result = [] \n",
    "        for i in range(self.rows):\n",
    "            row = [] \n",
    "            for j in range(other_matrix.cols):\n",
    "                element_sum = 0\n",
    "                for k in range(self.cols):\n",
    "                    element_sum += self.data[i][k] * other_matrix.data[k][j]\n",
    "                row.append(element_sum)\n",
    "            result.append(row)  \n",
    "        \n",
    "        return Matrix(result)\n",
    "    \n",
    "    def __str__(self):\n",
    "        return '\\n'.join([' '.join(map(str, row)) for row in self.data])\n",
    "\n",
    "# Example usage:\n",
    "matrix1 = Matrix([[1, 6], [3, 8]])\n",
    "matrix2 = Matrix([[5, 2], [7, 4]])\n",
    "\n",
    "# Matrix Addition\n",
    "added_matrix = matrix1.add(matrix2)\n",
    "print(\"Matrix Addition:\")\n",
    "print(added_matrix)\n",
    "\n",
    "# Matrix Subtraction\n",
    "subtracted_matrix = matrix1.subtract(matrix2)\n",
    "print(\"\\nMatrix Subtraction:\")\n",
    "print(subtracted_matrix)\n",
    "\n",
    "# Matrix Multiplication\n",
    "matrix3 = Matrix([[1, 2], [3, 4], [5, 6]])\n",
    "matrix4 = Matrix([[7, 8, 9], [10, 11, 12]])\n",
    "\n",
    "multiplied_matrix = matrix3.multiply(matrix4)\n",
    "print(\"\\nMatrix Multiplication:\")\n",
    "print(multiplied_matrix)\n"
   ]
  },
  {
   "cell_type": "markdown",
   "metadata": {},
   "source": [
    "## Exercise 12: Polynomial (without creating seperate class and importing it)"
   ]
  },
  {
   "cell_type": "code",
   "execution_count": 19,
   "metadata": {},
   "outputs": [
    {
     "name": "stdout",
     "output_type": "stream",
     "text": [
      "Roots of the quadratic polynomial:  (3.0, 2.0)\n",
      "Evaluation of p(x) = x^2 - 5x + 6 at x = 5: 6\n",
      "Roots of the quadratic polynomial:  None\n",
      "Evaluation of p(x) = 2x^2 + 3x + 4 at x = 2: 18\n",
      "Result of adding above polynomials is: 3x^2 + -2x + 10\n",
      "Result of subtracting above polynomials is: 1x^2 + 8x + -2\n",
      "Roots of the quadratic polynomial:  (2.0, -2.0)\n",
      "Result of adding above polynomials is: 1x^2 + 2x + -7\n",
      "Result of subtracting above polynomials is: 1x^2 + -2x + -1\n"
     ]
    }
   ],
   "source": [
    "import math\n",
    "\n",
    "class Polynomial:\n",
    "    def __init__(self, coefficients):\n",
    "        self.coefficients = coefficients\n",
    "\n",
    "    def evaluate(self, x):\n",
    "        result = 0\n",
    "\n",
    "        for i, coeff in enumerate(reversed(self.coefficients)):\n",
    "            result += coeff * (x ** i)\n",
    "        \n",
    "        return result\n",
    "    \n",
    "    def add(self, other):\n",
    "        max_len = max(len(self.coefficients), len(other.coefficients))\n",
    "        new_coeffs = [0] * max_len\n",
    "\n",
    "        for i in range(len(self.coefficients)):\n",
    "            new_coeffs[max_len - len(self.coefficients) + i] += self.coefficients[i]\n",
    "\n",
    "        for i in range(len(other.coefficients)):\n",
    "            new_coeffs[max_len - len(other.coefficients) + i] += other.coefficients[i]\n",
    "\n",
    "        return Polynomial(new_coeffs)\n",
    "    \n",
    "    def subtract(self, other):\n",
    "        max_len = max(len(self.coefficients), len(other.coefficients))\n",
    "        new_coeffs = [0] * max_len\n",
    "\n",
    "        for i in range(len(self.coefficients)):\n",
    "            new_coeffs[max_len - len(self.coefficients) + i] += self.coefficients[i]\n",
    "\n",
    "        for i in range(len(other.coefficients)):\n",
    "            new_coeffs[max_len - len(other.coefficients) + i] -= other.coefficients[i]\n",
    "\n",
    "        return Polynomial(new_coeffs)\n",
    "    \n",
    "    def __str__(self):\n",
    "        terms = []\n",
    "        for i, coeff in enumerate(reversed(self.coefficients)):\n",
    "            if coeff != 0:  # Skip if coefficient is zero\n",
    "                term = f\"{coeff}\" if i == 0 else (f\"{coeff}x^{i}\" if i > 1 else f\"{coeff}x\")\n",
    "                terms.append(term)\n",
    "        return \" + \".join(terms[::-1]) if terms else \"0\"\n",
    "    \n",
    "class QuadraticPolynomial(Polynomial):\n",
    "    def __init__(self, a, b ,c):\n",
    "        super().__init__([a, b, c])\n",
    "\n",
    "    def find_roots(self):\n",
    "        a, b, c = self.coefficients\n",
    "        discriminant = b**2 - 4*a*c\n",
    "\n",
    "        if discriminant > 0:\n",
    "            root1 = (-b + math.sqrt(discriminant)) / (2 * a)\n",
    "            root2 = (-b - math.sqrt(discriminant)) / (2 * a)\n",
    "            return root1, root2\n",
    "        elif discriminant == 0:\n",
    "            root = -b / (2 * a)\n",
    "            return root, root\n",
    "        else:\n",
    "            return None\n",
    "\n",
    "# Polynomial: p(x) = x^2 - 5x + 6\n",
    "quad_ploy_1 = QuadraticPolynomial(1, -5, 6)\n",
    "print(\"Roots of the quadratic polynomial: \", quad_ploy_1.find_roots())\n",
    "# Evaluate p(x) at x = 5\n",
    "print (\"Evaluation of p(x) = x^2 - 5x + 6 at x = 5:\", quad_ploy_1.evaluate(5))\n",
    "\n",
    "# Polynomial: p(x) = 2x^2 + 3x + 4\n",
    "quad_ploy_2 = QuadraticPolynomial(2, 3, 4)\n",
    "print(\"Roots of the quadratic polynomial: \", quad_ploy_2.find_roots())\n",
    "# Evaluate p(x) at x = 2\n",
    "print (\"Evaluation of p(x) = 2x^2 + 3x + 4 at x = 2:\", quad_ploy_2.evaluate(2))\n",
    "\n",
    "# Adding two polynomials: (x^2 - 5x + 6) + (2x^2 + 3x + 4)\n",
    "result_poly_1 = quad_ploy_1.add(quad_ploy_2)\n",
    "print(f\"Result of adding above polynomials is: {result_poly_1}\")\n",
    "\n",
    "# Subtracting two polynomials: (2x^2 + 3x + 4) - (x^2 - 5x + 6)\n",
    "result_poly_2 = quad_ploy_2.subtract(quad_ploy_1)\n",
    "print(f\"Result of subtracting above polynomials is: {result_poly_2}\")\n",
    "\n",
    "# Some more examples\n",
    "poly1 = QuadraticPolynomial(1, 0 , -4)\n",
    "print(\"Roots of the quadratic polynomial: \", poly1.find_roots())\n",
    "\n",
    "poly2 = QuadraticPolynomial(0, 2, -3)\n",
    "\n",
    "# Adding two polynomials: (x^2 -4) + (2x - 3)\n",
    "result_poly_3 = poly1.add(poly2)\n",
    "print(f\"Result of adding above polynomials is: {result_poly_3}\")\n",
    "\n",
    "# Subtracting two polynomials: (x^2 -4) - (2x - 3)\n",
    "result_poly_4 = poly1.subtract(poly2)\n",
    "print(f\"Result of subtracting above polynomials is: {result_poly_4}\")"
   ]
  }
 ],
 "metadata": {
  "kernelspec": {
   "display_name": ".venv",
   "language": "python",
   "name": "python3"
  },
  "language_info": {
   "codemirror_mode": {
    "name": "ipython",
    "version": 3
   },
   "file_extension": ".py",
   "mimetype": "text/x-python",
   "name": "python",
   "nbconvert_exporter": "python",
   "pygments_lexer": "ipython3",
   "version": "3.12.5"
  }
 },
 "nbformat": 4,
 "nbformat_minor": 2
}
